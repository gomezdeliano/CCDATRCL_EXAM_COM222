{
  "cells": [
    {
      "cell_type": "markdown",
      "metadata": {
        "id": "yaz2B0KGFehP"
      },
      "source": [
        "# Midterm Exam 💛💙"
      ]
    },
    {
      "cell_type": "markdown",
      "metadata": {
        "id": "_DmK1ONEFehQ"
      },
      "source": [
        "**Instructions** ❗️❗️\n",
        "\n",
        "❌ Do not remove or modify the notebook **sections**, **subsections**, **exam questions** or **any text** in this python notebook\n",
        "\n",
        "✔️ Put your answer in the designated cells below each question"
      ]
    },
    {
      "cell_type": "markdown",
      "metadata": {
        "id": "TMCAXKWCFehR"
      },
      "source": [
        "## Search"
      ]
    },
    {
      "cell_type": "code",
      "execution_count": null,
      "metadata": {
        "id": "Fy8nEBRRFehR"
      },
      "outputs": [],
      "source": [
        "def linearSearch(my_list, number):\n",
        "\n",
        "    index = 0\n",
        "\n",
        "    for i in my_list:\n",
        "\n",
        "        if my_list[index] == number:\n",
        "            return index\n",
        "\n",
        "        index = index + 1\n",
        "\n",
        "    return -1"
      ]
    },
    {
      "cell_type": "markdown",
      "metadata": {
        "id": "AjAevpueFehS"
      },
      "source": [
        "1. Using **linear search**, write a `findLargestIncrease()` function to find the largest increase in value between two adjacent numbers in your student number `(10 points)`\n",
        "\n",
        "    **Example:**\n",
        "\n",
        "    student_number = [2,0,2,2,6,2,5,1,9,3]\n",
        "\n",
        "    **Expected Output:**\n",
        "\n",
        "    findLargestIncrease(student_number)\n",
        "\n",
        "    Output: Between 1 and 9\n",
        "\n",
        "    **Explanation:**\n",
        "\n",
        "    From this student_number, the largest increase happened from number 1 to number 9"
      ]
    },
    {
      "cell_type": "markdown",
      "metadata": {
        "id": "nMyr1fNyFehS"
      },
      "source": [
        "2. Using **linear search**, write a `findLargestDecrease()` function to find the largest decrease in value between two adjacent numbers in your student number `(10 points)`\n",
        "\n",
        "    **Example:**\n",
        "\n",
        "    student_number = [2,0,2,2,6,2,5,1,9,3]\n",
        "\n",
        "    **Expected Output:**\n",
        "\n",
        "    findLargestDecrease(student_number)\n",
        "\n",
        "    Output: Between 9 and 3\n",
        "\n",
        "    **Explanation:**\n",
        "\n",
        "    From this student_number, the largest decrease happened from number 9 to number 3"
      ]
    },
    {
      "cell_type": "code",
      "execution_count": 147,
      "metadata": {
        "id": "JE8nEfyJFehS",
        "colab": {
          "base_uri": "https://localhost:8080/"
        },
        "outputId": "10dd67d2-6aac-4eda-970e-5e410a5beeef"
      },
      "outputs": [
        {
          "output_type": "stream",
          "name": "stdout",
          "text": [
            "Between 0 and 8\n",
            "Largest increase:  8\n"
          ]
        }
      ],
      "source": [
        "# LARGEST INCREASE\n",
        "\n",
        "\n",
        "def findLargestIncrease(student_number):\n",
        "  increase = 0\n",
        "  first = second = 0\n",
        "\n",
        "  for i in range(len(student_number) -1):\n",
        "    difference = student_number[i+1] - student_number[i]\n",
        "    if difference > increase:\n",
        "      increase = difference\n",
        "      first = student_number[i]\n",
        "      second = student_number[i+1]\n",
        "\n",
        "  return increase, first, second\n",
        "\n",
        "student_number = [2,0,2,2,1,0,7,0,0,8]\n",
        "largestIncrease, first, second = findLargestIncrease(student_number)\n",
        "print(\"Between\",first,\"and\",second)\n",
        "print(\"Largest increase: \",largestIncrease)\n",
        "\n"
      ]
    },
    {
      "cell_type": "code",
      "execution_count": 146,
      "metadata": {
        "id": "bfMfQVbVFehS",
        "colab": {
          "base_uri": "https://localhost:8080/"
        },
        "outputId": "dff2c92c-24dc-455d-ff69-95a2a97ebf06"
      },
      "outputs": [
        {
          "output_type": "stream",
          "name": "stdout",
          "text": [
            "Between 7 and 0\n",
            "Largest decrease:  7\n"
          ]
        }
      ],
      "source": [
        "\n",
        "# LARGEST DECREASE\n",
        "\n",
        "def findLargestDecrease(student_number):\n",
        "  decrease = 0\n",
        "  first = second = 0\n",
        "\n",
        "  for i in range(len(student_number) -1):\n",
        "    difference = student_number[i] - student_number[i+1]\n",
        "    if difference > decrease:\n",
        "      decrease = difference\n",
        "      first = student_number[i]\n",
        "      second = student_number[i+1]\n",
        "\n",
        "  return decrease, first, second\n",
        "\n",
        "student_number = [2,0,2,2,1,0,7,0,0,8]\n",
        "largestDecrease, first, second = findLargestDecrease(student_number)\n",
        "print(\"Between\",first,\"and\",second)\n",
        "print(\"Largest decrease: \", largestDecrease)\n",
        "\n"
      ]
    },
    {
      "cell_type": "markdown",
      "metadata": {
        "id": "NtKSQn9QFehS"
      },
      "source": [
        "## Linked List"
      ]
    },
    {
      "cell_type": "code",
      "execution_count": null,
      "metadata": {
        "id": "0HP5zyJcFehS"
      },
      "outputs": [],
      "source": [
        "class Node:\n",
        "\n",
        "    def __init__(self, data):\n",
        "        self.data = data\n",
        "        self.next = None  # null"
      ]
    },
    {
      "cell_type": "code",
      "execution_count": null,
      "metadata": {
        "id": "A-8Uefe7FehS"
      },
      "outputs": [],
      "source": [
        "class LinkedList:\n",
        "\n",
        "    def __init__(self):\n",
        "        self.head = None\n",
        "\n",
        "    def traverse(self, node):\n",
        "        while node:\n",
        "            print(node.data, end=\" -> \")\n",
        "            node = node.next"
      ]
    },
    {
      "cell_type": "markdown",
      "metadata": {
        "id": "uPgIJJuSFehT"
      },
      "source": [
        "**Instructions** ❗️❗️\n",
        "\n",
        "Use the pre-defined linked list class/functions to create a linked list"
      ]
    },
    {
      "cell_type": "markdown",
      "metadata": {
        "id": "WIwpW7Q2FehT"
      },
      "source": [
        "1. Create a Singly linked list named **num_list** and print all of its elements. `(5 points)`\n",
        "\n",
        "- **num_list** should contain all digits of your student number.\n",
        "\n",
        "    **Expected Output:**\n",
        "\n",
        "    print(num_list)\n",
        "\n",
        "    [2, 0, 2, 2, 1, 2, 3, 4, 5, 6]"
      ]
    },
    {
      "cell_type": "code",
      "execution_count": 145,
      "metadata": {
        "id": "Lihv0JPiFehT",
        "colab": {
          "base_uri": "https://localhost:8080/"
        },
        "outputId": "922669c3-42e1-45bc-e1f4-ffb5e0ebbf1a"
      },
      "outputs": [
        {
          "output_type": "stream",
          "name": "stdout",
          "text": [
            "[2, 0, 2, 2, 1, 0, 7, 0, 0, 8]\n"
          ]
        }
      ],
      "source": [
        "# Singly List\n",
        "\n",
        "class Node:\n",
        "  def __init__(self,data):\n",
        "    self.data = data\n",
        "    self.next = None\n",
        "\n",
        "class SinglyLinkedList:\n",
        "  def __init__(self):\n",
        "    self.head = None\n",
        "\n",
        "  def node(self,data):\n",
        "    new_node = Node(data)\n",
        "    if not self.head:\n",
        "      self.head = new_node\n",
        "      return\n",
        "\n",
        "    current = self.head\n",
        "    while current.next:\n",
        "      current=current.next\n",
        "\n",
        "    current.next = new_node\n",
        "\n",
        "  def display(self):\n",
        "    nodes = []\n",
        "    current=self.head\n",
        "    while current:\n",
        "      nodes.append(current.data)\n",
        "      current = current.next\n",
        "    return nodes\n",
        "\n",
        "num_list = SinglyLinkedList()\n",
        "\n",
        "num_list.node(2)\n",
        "num_list.node(0)\n",
        "num_list.node(2)\n",
        "num_list.node(2)\n",
        "num_list.node(1)\n",
        "num_list.node(0)\n",
        "num_list.node(7)\n",
        "num_list.node(0)\n",
        "num_list.node(0)\n",
        "num_list.node(8)\n",
        "\n",
        "print(num_list.display())\n"
      ]
    },
    {
      "cell_type": "markdown",
      "metadata": {
        "id": "dqA2UYrYFehT"
      },
      "source": [
        "2. Write a `hasPrime()` function to test whether a prime number is in the last six digits of **num_list**. `(5 points)`\n",
        "\n",
        "- If a prime number is in the last six digits of **num_list**, the method should return **true**\n",
        "\n",
        "- If a prime number is not in the last six digits of **num_list**, the method should return **false**\n",
        "\n",
        "    **Expected Output:**\n",
        "\n",
        "    hasPrime(num_list)\n",
        "\n",
        "    True"
      ]
    },
    {
      "cell_type": "code",
      "execution_count": 144,
      "metadata": {
        "id": "GYwsQNz5FehT",
        "colab": {
          "base_uri": "https://localhost:8080/"
        },
        "outputId": "34d23532-59a3-4b53-d459-c6f0aac9ba84"
      },
      "outputs": [
        {
          "output_type": "stream",
          "name": "stdout",
          "text": [
            "True\n"
          ]
        }
      ],
      "source": [
        "# Prime Number Search\n",
        "\n",
        "class Node:\n",
        "  def __init__(self,data):\n",
        "    self.data = data\n",
        "    self.next = None\n",
        "\n",
        "class SinglyLinkedList:\n",
        "  def __init__(self):\n",
        "    self.head = None\n",
        "\n",
        "  def node(self,data):\n",
        "    new_node = Node(data)\n",
        "    if not self.head:\n",
        "      self.head = new_node\n",
        "      return\n",
        "\n",
        "    current = self.head\n",
        "    while current.next:\n",
        "      current=current.next\n",
        "\n",
        "    current.next = new_node\n",
        "\n",
        "  @staticmethod\n",
        "  def checkIfPrime(num): #check each if prime\n",
        "    if num < 2:\n",
        "      return False\n",
        "    for i in range(2, int(num**0.5) +1):\n",
        "      if num % i == 0:\n",
        "        return False\n",
        "    return True\n",
        "\n",
        "  #ADDITIONAL\n",
        "  def hasPrime(self):\n",
        "    current = self.head\n",
        "    checkDigits = []\n",
        "\n",
        "    while current:\n",
        "      checkDigits.append(current.data)\n",
        "      current = current.next\n",
        "\n",
        "    checkDigits = checkDigits[-6:]\n",
        "\n",
        "    for i in checkDigits:\n",
        "        if self.checkIfPrime(i):\n",
        "            return True\n",
        "\n",
        "    return False\n",
        "\n",
        "\n",
        "num_list = SinglyLinkedList()\n",
        "\n",
        "num_list.node(2)\n",
        "num_list.node(0)\n",
        "num_list.node(2)\n",
        "num_list.node(2)\n",
        "num_list.node(1)\n",
        "num_list.node(0)\n",
        "num_list.node(7)\n",
        "num_list.node(0)\n",
        "num_list.node(0)\n",
        "num_list.node(8)\n",
        "\n",
        "if num_list.hasPrime():\n",
        "  print(\"True\")\n",
        "else:\n",
        "  print(\"False\")\n"
      ]
    },
    {
      "cell_type": "markdown",
      "metadata": {
        "id": "5Qb0BOiwFehT"
      },
      "source": [
        "3. Write a `removeZeroes()` function to remove all occurrences of zeroes in **num_list**. `(5 points)`\n",
        "\n",
        "- If a zero is in **num_list**, return **num_list**\n",
        "\n",
        "- If there are no zeroes in **num_list**, return **\"no zeros found\"**\n",
        "\n",
        "    **Expected Output:**\n",
        "\n",
        "    removeZeroes(num_list)\n",
        "\n",
        "    [2, 2, 1, 2, 3, 4, 5, 6]"
      ]
    },
    {
      "cell_type": "code",
      "execution_count": 141,
      "metadata": {
        "id": "k1vAHUYuFehT",
        "colab": {
          "base_uri": "https://localhost:8080/"
        },
        "outputId": "d68cc0e7-010b-4a28-f74d-36487fb44b5b"
      },
      "outputs": [
        {
          "output_type": "stream",
          "name": "stdout",
          "text": [
            "[2, 2, 2, 1, 7, 8]\n"
          ]
        }
      ],
      "source": [
        "\n",
        "# Remove Zeroes\n",
        "\n",
        "class Node:\n",
        "  def __init__(self,data):\n",
        "    self.data = data\n",
        "    self.next = None\n",
        "\n",
        "class LinkedList:\n",
        "  def __init__(self):\n",
        "    self.head = None\n",
        "\n",
        "\n",
        "  def node(self,data):\n",
        "    # add nodes\n",
        "    new_node = Node(data)\n",
        "    if not self.head:\n",
        "      self.head = new_node\n",
        "      return\n",
        "\n",
        "    current = self.head\n",
        "    while current.next:\n",
        "      current=current.next\n",
        "\n",
        "    current.next = new_node\n",
        "\n",
        "  #ADDITIONAL\n",
        "  def removeZeroes(self):\n",
        "    current = self.head\n",
        "\n",
        "    while current and current.data == 0:\n",
        "      self.head = current.next\n",
        "      current = self.head\n",
        "\n",
        "    prev = None\n",
        "    while current:\n",
        "      if current.data == 0:\n",
        "        prev.next = current.next\n",
        "        current = current.next\n",
        "      else:\n",
        "        prev = current\n",
        "        current = current.next\n",
        "\n",
        "    removed = []\n",
        "    current = self.head\n",
        "    while current:\n",
        "      removed.append(current.data)\n",
        "      current = current.next\n",
        "    return removed\n",
        "\n",
        "num_list = LinkedList()\n",
        "\n",
        "num_list.node(2)\n",
        "num_list.node(0)\n",
        "num_list.node(2)\n",
        "num_list.node(2)\n",
        "num_list.node(1)\n",
        "num_list.node(0)\n",
        "num_list.node(7)\n",
        "num_list.node(0)\n",
        "num_list.node(0)\n",
        "num_list.node(8)\n",
        "\n",
        "print(num_list.removeZeroes())\n",
        "\n"
      ]
    },
    {
      "cell_type": "markdown",
      "metadata": {
        "id": "SKAlpglNFehT"
      },
      "source": [
        "4. Insert a dash symbol between the 4th and 5th digit in **num_list**. `(5 points)`\n",
        "\n",
        "    **Expected Output:**\n",
        "\n",
        "    print(num_list)\n",
        "\n",
        "    [2, 0, 2, 2, \"-\", 1, 2, 3, 4, 5, 6]"
      ]
    },
    {
      "cell_type": "code",
      "execution_count": 140,
      "metadata": {
        "id": "vF7fimZ-FehT",
        "colab": {
          "base_uri": "https://localhost:8080/"
        },
        "outputId": "8e63e071-0e49-4863-928b-252ccc7090b3"
      },
      "outputs": [
        {
          "output_type": "stream",
          "name": "stdout",
          "text": [
            "[2, 0, 2, 2, '-', 1, 0, 7, 0, 0, 8]\n"
          ]
        }
      ],
      "source": [
        "# put your answer here\n",
        "\n",
        "\n",
        "class Node:\n",
        "  def __init__(self,data):\n",
        "    self.data = data\n",
        "    self.next = None\n",
        "\n",
        "class SinglyLinkedList:\n",
        "  def __init__(self):\n",
        "    self.head = None\n",
        "\n",
        "  def node(self,data):\n",
        "    new_node = Node(data)\n",
        "    if not self.head:\n",
        "      self.head = new_node\n",
        "      return\n",
        "\n",
        "    current = self.head\n",
        "    while current.next:\n",
        "      current=current.next\n",
        "\n",
        "    current.next = new_node\n",
        "\n",
        "  def display(self):\n",
        "    nodes = []\n",
        "    current=self.head\n",
        "    while current:\n",
        "      nodes.append(current.data)\n",
        "      current = current.next\n",
        "    return nodes\n",
        "\n",
        "  #ADDITIONAL FUNCTION\n",
        "  def insertDash(self):\n",
        "    current = self.head\n",
        "    move = 1\n",
        "\n",
        "    while current:\n",
        "      if move == 4 and current.next:\n",
        "        insertNode = Node(\"-\")\n",
        "        insertNode.next = current.next\n",
        "        current.next = insertNode\n",
        "      move += 1\n",
        "      current = current.next\n",
        "\n",
        "num_list = SinglyLinkedList()\n",
        "\n",
        "num_list.node(2)\n",
        "num_list.node(0)\n",
        "num_list.node(2)\n",
        "num_list.node(2)\n",
        "num_list.node(1)\n",
        "num_list.node(0)\n",
        "num_list.node(7)\n",
        "num_list.node(0)\n",
        "num_list.node(0)\n",
        "num_list.node(8)\n",
        "\n",
        "num_list.insertDash()\n",
        "print(num_list.display())\n"
      ]
    },
    {
      "cell_type": "markdown",
      "metadata": {
        "id": "KkC-LgdxFehT"
      },
      "source": [
        "## Stack"
      ]
    },
    {
      "cell_type": "code",
      "execution_count": null,
      "metadata": {
        "id": "UYTqB1u_FehU"
      },
      "outputs": [],
      "source": [
        "# Creating a stack\n",
        "def create_stack():\n",
        "    stack = []\n",
        "    return stack\n",
        "\n",
        "\n",
        "def print_stack(stack):\n",
        "\n",
        "    if (check_empty(stack)):\n",
        "        return \"stack is empty\"\n",
        "\n",
        "    # Create a copy of the stack and reverse the elements\n",
        "    tempStack = stack.copy()\n",
        "    tempStack.reverse()\n",
        "\n",
        "    # Print all elements using a loop\n",
        "    for i in tempStack:\n",
        "        print(i)\n",
        "\n",
        "    # Delete the copy to free up memory\n",
        "    del tempStack\n",
        "\n",
        "# Creating an empty stack\n",
        "\n",
        "\n",
        "def check_empty(stack):\n",
        "    return len(stack) == 0\n",
        "\n",
        "\n",
        "# Adding items into the stack\n",
        "def push(stack, item):\n",
        "    stack.append(item)\n",
        "    print(\"pushed item: \" + item)\n",
        "\n",
        "\n",
        "# Removing an element from the stack\n",
        "def pop(stack):\n",
        "    if (check_empty(stack)):\n",
        "        return \"stack is empty\"\n",
        "\n",
        "    return stack.pop()\n",
        "\n",
        "\n",
        "def peek(stack):\n",
        "\n",
        "    # Use negative indexing to display the last element of the list\n",
        "    print(stack[-1])"
      ]
    },
    {
      "cell_type": "markdown",
      "metadata": {
        "id": "wLAQchs8FehU"
      },
      "source": [
        "**Instructions** ❗️❗️\n",
        "\n",
        "Use the pre-defined stack class/functions to create a stack"
      ]
    },
    {
      "cell_type": "markdown",
      "metadata": {
        "id": "37cg9BoCFehU"
      },
      "source": [
        "1. Create two (2) stacks named **name_stack** and **num_stack** `(5 points)`\n",
        "\n",
        "- **name_stack** should contain all letters of your first name.\n",
        "- **num_stack** should contain all digits of your student number.\n",
        "\n",
        "    **Expected Output:**\n",
        "\n",
        "    print(name_stack)\n",
        "\n",
        "    ['E', 'L', 'I', 'Z', 'E', 'R']\n",
        "\n",
        "    print(num_stack)\n",
        "\n",
        "    [2,0,2,2,1,2,3,4,5,6]"
      ]
    },
    {
      "cell_type": "code",
      "execution_count": 139,
      "metadata": {
        "id": "HlUIUQzQFehU",
        "colab": {
          "base_uri": "https://localhost:8080/"
        },
        "outputId": "37a5668e-0b83-4e7b-bb38-4b492ecf2a20"
      },
      "outputs": [
        {
          "output_type": "stream",
          "name": "stdout",
          "text": [
            "name_stack:\n",
            "['M', 'A', 'R', 'G', 'A']\n",
            "num_stack:\n",
            "[2, 0, 2, 2, 1, 0, 7, 0, 0, 8]\n"
          ]
        }
      ],
      "source": [
        "# put your answer here\n",
        "def createStack():\n",
        "  stack = []\n",
        "  return stack\n",
        "\n",
        "def push(stack, items):\n",
        "  stack.append(items)\n",
        "\n",
        "name_stack = createStack()\n",
        "\n",
        "push(name_stack, \"M\")\n",
        "push(name_stack, \"A\")\n",
        "push(name_stack, \"R\")\n",
        "push(name_stack, \"G\")\n",
        "push(name_stack, \"A\")\n",
        "\n",
        "print(\"name_stack:\")\n",
        "print(name_stack)\n",
        "\n",
        "def newStack():\n",
        "  stack = []\n",
        "  return stack\n",
        "\n",
        "def push(stack, items):\n",
        "  stack.append(items)\n",
        "\n",
        "num_stack = newStack()\n",
        "\n",
        "push(num_stack, 2)\n",
        "push(num_stack, 0)\n",
        "push(num_stack, 2)\n",
        "push(num_stack, 2)\n",
        "push(num_stack, 1)\n",
        "push(num_stack, 0)\n",
        "push(num_stack, 7)\n",
        "push(num_stack, 0)\n",
        "push(num_stack, 0)\n",
        "push(num_stack, 8)\n",
        "\n",
        "print(\"num_stack:\")\n",
        "print(num_stack)\n"
      ]
    },
    {
      "cell_type": "markdown",
      "metadata": {
        "id": "8cySe9LXFehU"
      },
      "source": [
        "2. Create a stack named **my_stack** that follows the following format: `(5 points)`\n",
        "\n",
        "- The first element should be the **5th digit in your student number**\n",
        "- The succeeding elements should be the letters of your **first name**\n",
        "- The last element should be the **last digit of your student number**\n",
        "\n",
        "    **Expected Output:**\n",
        "\n",
        "    my_stack = [1, E, L, I, Z, E, R, 6]"
      ]
    },
    {
      "cell_type": "code",
      "execution_count": 33,
      "metadata": {
        "id": "bEnCoAhjFehU",
        "colab": {
          "base_uri": "https://localhost:8080/"
        },
        "outputId": "5c96fdc3-89c4-434f-af60-67bf8cb044a3"
      },
      "outputs": [
        {
          "output_type": "stream",
          "name": "stdout",
          "text": [
            "[1, M, A, R, G, A, 8]\n"
          ]
        }
      ],
      "source": [
        "# MY STACK\n",
        "\n",
        "def popTwoNumbers(num_stack):\n",
        "\n",
        "  fifth_elem = num_stack[4]\n",
        "  last_elem = num_stack[-1]\n",
        "\n",
        "  return fifth_elem, last_elem\n",
        "\n",
        "def secondStack():\n",
        "  stack = []\n",
        "  return stack\n",
        "\n",
        "# stacks are here again\n",
        "num_stack = [2, 0, 2, 2, 1, 0, 7, 0, 0, 8]\n",
        "name_stack = ['M','A','R','G','A']\n",
        "\n",
        "fifth, last = popTwoNumbers(num_stack)\n",
        "\n",
        "my_stack = secondStack()\n",
        "\n",
        "my_stack.append(fifth)\n",
        "for char in name_stack:\n",
        "  my_stack.append(char)\n",
        "my_stack.append(last)\n",
        "\n",
        "final = print('[' + ', '.join(map(str, my_stack)) + ']')\n",
        "# this removes the ' ' on every letter\n"
      ]
    },
    {
      "cell_type": "markdown",
      "metadata": {
        "id": "8a8_KP5nFehU"
      },
      "source": [
        "3. Write a `verifyStack()` function that will take in `my_stack` and check if its format has been followed `(10 points)`\n",
        "\n",
        "- Return **True** if the format has been followed\n",
        "- Return **False** if the format was not followed\n",
        "- Verify the format by checking the contents of **my_stack** with **name_stack** and **num_stack**\n",
        "\n",
        "    **Expected Output:**\n",
        "\n",
        "    my_stack = [1, E, L, I, Z, E, R, 6]\n",
        "\n",
        "    verifyStack(my_stack)\n",
        "\n",
        "    True\n",
        "\n",
        "    my_stack = [1, S, L, I, Z, E, R, 7]\n",
        "\n",
        "    verifyStack(my_stack)\n",
        "\n",
        "    False"
      ]
    },
    {
      "cell_type": "code",
      "source": [
        "def verifyStack(num):\n",
        "\n",
        "  fifth_elem = num_stack[4]\n",
        "  last_elem = num_stack[-1]\n",
        "\n",
        "  return fifth_elem, last_elem\n",
        "\n",
        "stack = [5, 'M', 'A', 'R', 'G', 'A', 3] # changeable and numbers only\n",
        "# is stack is [1, 'M', 'A', 'R', 'G', 'A', 8] - returns True\n",
        "print('[' + ', '.join(map(str, stack)) + ']')\n",
        "\n",
        "first_elem, last_elem = verifyStack(num)\n",
        "\n",
        "\n",
        "if stack[0]!= first_elem or stack[-1] != last_elem:\n",
        "  print(\"False\")\n",
        "elif stack[0] == first_elem and stack[-1] == last_elem:\n",
        "  print(\"True\")"
      ],
      "metadata": {
        "colab": {
          "base_uri": "https://localhost:8080/"
        },
        "id": "d3P_CKJz3lwk",
        "outputId": "347d569e-46c9-4e74-ed52-b69328f6b390"
      },
      "execution_count": 56,
      "outputs": [
        {
          "output_type": "stream",
          "name": "stdout",
          "text": [
            "[5, M, A, R, G, A, 3]\n",
            "False\n"
          ]
        }
      ]
    },
    {
      "cell_type": "markdown",
      "metadata": {
        "id": "UC5C64B2FehU"
      },
      "source": [
        "## Queue"
      ]
    },
    {
      "cell_type": "code",
      "execution_count": null,
      "metadata": {
        "id": "NJJ0j0LHFehU"
      },
      "outputs": [],
      "source": [
        "class Queue:\n",
        "    def __init__(self):\n",
        "        self.queue = []\n",
        "\n",
        "    # Add an element\n",
        "    def enqueue(self, item):\n",
        "        self.queue.append(item)\n",
        "\n",
        "    # Remove an element\n",
        "    def dequeue(self):\n",
        "        if len(self.queue) < 1:\n",
        "            return None\n",
        "        return self.queue.pop(0)\n",
        "\n",
        "    # Display  the queue\n",
        "    def display(self):\n",
        "        print(self.queue)\n",
        "\n",
        "    def size(self):\n",
        "        return len(self.queue)\n",
        "\n",
        "    def peek(self):\n",
        "        return self.queue[0]"
      ]
    },
    {
      "cell_type": "markdown",
      "metadata": {
        "id": "80OekpbeFehV"
      },
      "source": [
        "**Instructions** ❗️❗️\n",
        "\n",
        "Use the pre-defined queue class/functions to create a Queue"
      ]
    },
    {
      "cell_type": "markdown",
      "metadata": {
        "id": "_Hf0OP5cFehV"
      },
      "source": [
        "1. Create a simple queue named **num_queue** `(5 points)`\n",
        "\n",
        "- **num_queue** should contain all digits of your student number.\n",
        "\n",
        "    **Expected Output:**\n",
        "\n",
        "    print(num_queue)\n",
        "\n",
        "    [2,0,2,2,1,2,3,4,5,6]"
      ]
    },
    {
      "cell_type": "code",
      "execution_count": 137,
      "metadata": {
        "id": "_mgmE4ArFehV",
        "colab": {
          "base_uri": "https://localhost:8080/"
        },
        "outputId": "12433fa4-f473-42a4-c11b-785fe6ac75f9"
      },
      "outputs": [
        {
          "output_type": "stream",
          "name": "stdout",
          "text": [
            "[2, 0, 2, 2, 1, 0, 7, 0, 0, 8]\n"
          ]
        }
      ],
      "source": [
        "# QUEUE\n",
        "\n",
        "class Queue:\n",
        "  def __init__(self):\n",
        "    self.queue = []\n",
        "\n",
        "  def enqueue(self, num):\n",
        "    self.queue.append(num)\n",
        "\n",
        "  def display(self):\n",
        "    print(self.queue)\n",
        "\n",
        "num_queue = Queue()\n",
        "\n",
        "num_queue.enqueue(2)\n",
        "num_queue.enqueue(0)\n",
        "num_queue.enqueue(2)\n",
        "num_queue.enqueue(2)\n",
        "num_queue.enqueue(1)\n",
        "num_queue.enqueue(0)\n",
        "num_queue.enqueue(7)\n",
        "num_queue.enqueue(0)\n",
        "num_queue.enqueue(0)\n",
        "num_queue.enqueue(8)\n",
        "\n",
        "num_queue.display()"
      ]
    },
    {
      "cell_type": "markdown",
      "metadata": {
        "id": "1pHG8t6DFehV"
      },
      "source": [
        "2. Write a `getMax()` or `getMin()` function for **num_queue** `(5 points)`\n",
        "\n",
        "- If your student number ends with an odd number, create a `getMax()` function that will return the largest number in **num_queue**\n",
        "- If your student number ends with an even number, create a `getMin()` function that will return the lowest number in **num_queue**\n",
        "\n",
        "    **Expected Output for getMax():**\n",
        "\n",
        "    getMax(num_queue)\n",
        "\n",
        "    6\n",
        "\n",
        "    **Expected Output for getMin():**\n",
        "\n",
        "    getMin(num_queue)\n",
        "\n",
        "    0"
      ]
    },
    {
      "cell_type": "code",
      "execution_count": 136,
      "metadata": {
        "id": "itj2U610FehV",
        "colab": {
          "base_uri": "https://localhost:8080/"
        },
        "outputId": "98ce4df5-49f3-471c-a232-8008464e9049"
      },
      "outputs": [
        {
          "output_type": "stream",
          "name": "stdout",
          "text": [
            "Minimum Value: 0\n"
          ]
        }
      ],
      "source": [
        "# MINIMUM VALUE\n",
        "\n",
        "class Queue:\n",
        "  def __init__(self):\n",
        "    self.queue = []\n",
        "\n",
        "  def enqueue(self, num):\n",
        "    self.queue.append(num)\n",
        "\n",
        "  def display(self):\n",
        "    print(self.queue)\n",
        "\n",
        "  def getMinimum(self):\n",
        "    min_val = self.queue[0]\n",
        "\n",
        "    for num in self.queue:\n",
        "      if num < min_val:\n",
        "        min_val = num\n",
        "\n",
        "    return min_val\n",
        "\n",
        "num_queue = Queue()\n",
        "\n",
        "num_queue.enqueue(2)\n",
        "num_queue.enqueue(0)\n",
        "num_queue.enqueue(2)\n",
        "num_queue.enqueue(2)\n",
        "num_queue.enqueue(1)\n",
        "num_queue.enqueue(0)\n",
        "num_queue.enqueue(7)\n",
        "num_queue.enqueue(0)\n",
        "num_queue.enqueue(0)\n",
        "num_queue.enqueue(8)\n",
        "\n",
        "minimum = num_queue.getMinimum()\n",
        "print(\"Minimum Value:\",minimum)"
      ]
    },
    {
      "cell_type": "markdown",
      "metadata": {
        "id": "YkgmP6GwFehV"
      },
      "source": [
        "3. Write a `getOdd()` or `getEven()` function for  **num_queue** `(5 points)`\n",
        "\n",
        "- If your student number ends with an **odd number**, create a `getOdd()` function that will return all odd numbers in **num_queue**\n",
        "- If your student number ends with an **even number**, create a `getEven()` function that will return all even numbers in **num_queue**\n",
        "\n",
        "    **Expected Output for getOdd():**\n",
        "\n",
        "    getOdd(num_queue)\n",
        "\n",
        "    [1, 3, 5]\n",
        "\n",
        "    **Expected Output for getEven():**\n",
        "\n",
        "    getEven(num_queue)\n",
        "\n",
        "    [0, 2, 4, 6]"
      ]
    },
    {
      "cell_type": "code",
      "execution_count": 114,
      "metadata": {
        "id": "2Bc7E1zNFehV",
        "colab": {
          "base_uri": "https://localhost:8080/"
        },
        "outputId": "c1a97a8c-89f9-4d26-8cf3-7a3f4ecb2077"
      },
      "outputs": [
        {
          "output_type": "stream",
          "name": "stdout",
          "text": [
            "Even Values: [2, 2, 2, 8]\n"
          ]
        }
      ],
      "source": [
        "# EVEN VALUES\n",
        "\n",
        "class Queue:\n",
        "  def __init__(self):\n",
        "    self.queue = []\n",
        "\n",
        "  def enqueue(self, num):\n",
        "    self.queue.append(num)\n",
        "\n",
        "  def display(self):\n",
        "    print(self.queue)\n",
        "\n",
        "  def getEven(self):\n",
        "    even = [num for num in self.queue if num % 2 == 0 and num > 0]\n",
        "\n",
        "    return even\n",
        "\n",
        "#always been here all along\n",
        "num_queue = Queue()\n",
        "\n",
        "num_queue.enqueue(2)\n",
        "num_queue.enqueue(0)\n",
        "num_queue.enqueue(2)\n",
        "num_queue.enqueue(2)\n",
        "num_queue.enqueue(1)\n",
        "num_queue.enqueue(0)\n",
        "num_queue.enqueue(7)\n",
        "num_queue.enqueue(0)\n",
        "num_queue.enqueue(0)\n",
        "num_queue.enqueue(8)\n",
        "\n",
        "even = num_queue.getEven()\n",
        "print(\"Even Values:\",even)"
      ]
    },
    {
      "cell_type": "markdown",
      "metadata": {
        "id": "kuzWF5g4FehV"
      },
      "source": [
        "4. Write a `removeDup()` function that will remove all duplicates in **num_queue** `(5 points)`\n",
        "\n",
        "    **Expected Output:**\n",
        "\n",
        "    removeDup(num_queue)\n",
        "\n",
        "    [2,0,1,3,4,5,6]"
      ]
    },
    {
      "cell_type": "code",
      "execution_count": 32,
      "metadata": {
        "id": "I8LeQP8MFehY",
        "colab": {
          "base_uri": "https://localhost:8080/"
        },
        "outputId": "8d79438f-dfa9-498e-fe5a-166bc8df25e7"
      },
      "outputs": [
        {
          "output_type": "stream",
          "name": "stdout",
          "text": [
            "[2, 0, 1, 7, 8]\n"
          ]
        }
      ],
      "source": [
        "#Remove Duplicates\n",
        "\n",
        "class Deque:\n",
        "  def __init__(self):\n",
        "    self.deque = []\n",
        "\n",
        "  def append(self, val):\n",
        "    self.deque.append(val)\n",
        "\n",
        "  def display(self):\n",
        "    print(self.deque)\n",
        "\n",
        "\n",
        "class Queue:\n",
        "  def __init__(self):\n",
        "    self.queue = Deque()\n",
        "    self.current = []\n",
        "    self.new = []\n",
        "\n",
        "  def enqueue(self, num):\n",
        "    if num not in self.current and num not in self.new:\n",
        "      self.new.append(num)\n",
        "      self.queue.append(num)\n",
        "\n",
        "  def display(self):\n",
        "    self.queue.display()\n",
        "\n",
        "  #Will not append if already added\n",
        "  def removeDup(self):\n",
        "    new_queue = Deque()\n",
        "    for num in self.queue.deque:\n",
        "      if num not in self.current or (num in self.new and num != self.new[0]):\n",
        "        new_queue.append(num)\n",
        "    self.queue = new_queue\n",
        "\n",
        "#always been here all along\n",
        "num_queue = Queue()\n",
        "\n",
        "num_queue.enqueue(2)\n",
        "num_queue.enqueue(0)\n",
        "num_queue.enqueue(2)\n",
        "num_queue.enqueue(2)\n",
        "num_queue.enqueue(1)\n",
        "num_queue.enqueue(0)\n",
        "num_queue.enqueue(7)\n",
        "num_queue.enqueue(0)\n",
        "num_queue.enqueue(0)\n",
        "num_queue.enqueue(8)\n",
        "\n",
        "# Remove duplicates\n",
        "num_queue.removeDup()\n",
        "num_queue.display()\n"
      ]
    },
    {
      "cell_type": "markdown",
      "metadata": {
        "id": "LVfZTh8YFehZ"
      },
      "source": [
        "## Sort"
      ]
    },
    {
      "cell_type": "markdown",
      "metadata": {
        "id": "bm9lonfzFehZ"
      },
      "source": [
        "**Instructions** ❗️❗️\n",
        "\n",
        "Use the any sorting algoritms"
      ]
    },
    {
      "cell_type": "markdown",
      "metadata": {
        "id": "EJTlxhEdFehZ"
      },
      "source": [
        "1. Using any sorting algorithm, sort the **last 6 digits** of your student number in ascending order `(5 points)`\n",
        "\n",
        "    **Example:**\n",
        "\n",
        "    student_number = [2,0,2,2,6,2,5,1,3,4]\n",
        "\n",
        "    **Expected Output:**\n",
        "\n",
        "    print(student_number)\n",
        "\n",
        "    [2,0,2,2,1,2,3,4,5,6]\n"
      ]
    },
    {
      "cell_type": "code",
      "execution_count": 31,
      "metadata": {
        "id": "MkZKfveOFehZ",
        "colab": {
          "base_uri": "https://localhost:8080/"
        },
        "outputId": "01cefa76-0907-4ca7-cba7-3d5c04cfaf54"
      },
      "outputs": [
        {
          "output_type": "stream",
          "name": "stdout",
          "text": [
            "Sorted Array: [2, 0, 2, 2, 0, 0, 0, 1, 7, 8]\n"
          ]
        }
      ],
      "source": [
        "#Last Six Ascending\n",
        "\n",
        "def selectionSort(num):\n",
        "    n = len(num)\n",
        "    for i in range(n-1, n-7, -1):  #sort last 6 digits\n",
        "        max_idx = i\n",
        "        for j in range(i-1, n-7, -1):\n",
        "            if num[j] > num[max_idx]:\n",
        "                max_idx = j\n",
        "        num[i], num[max_idx] = num[max_idx], num[i]\n",
        "\n",
        "    return num\n",
        "\n",
        "\n",
        "student_number = [2, 0, 2, 2, 1, 0, 7, 0, 0, 8]\n",
        "\n",
        "# 4 digits remain, last six sort\n",
        "sortedSix = selectionSort(student_number[-6:].copy())\n",
        "\n",
        "combineArray = student_number[:4] + sortedSix\n",
        "\n",
        "print(\"Sorted Array:\", combineArray)\n"
      ]
    },
    {
      "cell_type": "markdown",
      "metadata": {
        "id": "sC2JZRZMFehZ"
      },
      "source": [
        "2. Using your student_number, separately sort the even numbers in **increasing order** and the odd numbers in **decreasing order** `(15 points)`\n",
        "\n",
        "    **Example:**\n",
        "\n",
        "    student_number = [2,0,2,2,1,2,3,4,5,6]\n",
        "\n",
        "    **Expected Output:**\n",
        "\n",
        "    print(student_number)\n",
        "\n",
        "    [0,2,2,2,2,4,6,5,3,1]"
      ]
    },
    {
      "cell_type": "code",
      "execution_count": 30,
      "metadata": {
        "id": "hWOh_ohcFehZ",
        "colab": {
          "base_uri": "https://localhost:8080/"
        },
        "outputId": "9b05af6f-a66a-47e0-9d17-2a1887715394"
      },
      "outputs": [
        {
          "output_type": "stream",
          "name": "stdout",
          "text": [
            "[0, 0, 0, 0, 2, 2, 2, 8, 7, 1]\n"
          ]
        }
      ],
      "source": [
        "def bubbleSort(num, is_ascending=True):\n",
        "    n = len(num)\n",
        "\n",
        "    for i in range(n):\n",
        "        for j in range(0, n-i-1):\n",
        "            if is_ascending:\n",
        "                if num[j] > num[j+1]:\n",
        "                    num[j], num[j+1] = num[j+1], num[j]\n",
        "            else:\n",
        "                if num[j] < num[j+1]:\n",
        "                    num[j], num[j+1] = num[j+1], num[j]\n",
        "\n",
        "def sortBoth(num):\n",
        "    even_nums = [num for num in num if num % 2 == 0]\n",
        "    odd_nums = [num for num in num if num % 2 != 0]\n",
        "\n",
        "    #sort even numbers in ascending order\n",
        "    bubbleSort(even_nums, is_ascending=True)\n",
        "\n",
        "    #sort odd numbers in descending order\n",
        "    bubbleSort(odd_nums, is_ascending=False)\n",
        "\n",
        "    #altogether,\n",
        "    combineSort = even_nums + odd_nums\n",
        "    return combineSort\n",
        "\n",
        "student_number = [2, 0, 2, 2, 1, 0, 7, 0, 0, 8]\n",
        "sortedNums = sortBoth(student_number)\n",
        "print(sortedNums)\n"
      ]
    }
  ],
  "metadata": {
    "kernelspec": {
      "display_name": "Python 3",
      "language": "python",
      "name": "python3"
    },
    "language_info": {
      "codemirror_mode": {
        "name": "ipython",
        "version": 3
      },
      "file_extension": ".py",
      "mimetype": "text/x-python",
      "name": "python",
      "nbconvert_exporter": "python",
      "pygments_lexer": "ipython3",
      "version": "3.9.13"
    },
    "orig_nbformat": 4,
    "colab": {
      "provenance": []
    }
  },
  "nbformat": 4,
  "nbformat_minor": 0
}